{
 "cells": [
  {
   "cell_type": "code",
   "execution_count": null,
   "metadata": {},
   "outputs": [
    {
     "name": "stdout",
     "output_type": "stream",
     "text": [
      "147893841846442921062513496676444691472131242846638137211139032853913187089159637216606557791220251144693044768850107054977486399533639126788815664613404818488582487445012885668046611299480238678959423342157338741222408216352943300419037812352982516535968906851303537899094593108347353565644913394649399746343\n"
     ]
    }
   ],
   "source": [
    "\n",
    "import os\n",
    "def generate_primes():\n",
    "    primes = []\n",
    "    for i in range(6):\n",
    "        prime = os.popen(\"openssl prime -generate -bits 2048\").read().strip()\n",
    "        primes.append(prime)\n",
    "\n",
    "    return primes\n",
    "\n",
    "primelist = generate_primes()\n",
    "print(primelist[0])\n",
    "# store all these 4 primes in a file\n",
    "with open(\"primes.txt\", \"w\") as f:\n",
    "    for prime in primelist:\n",
    "        f.write(prime + \"\\n\")\n"
   ]
  },
  {
   "cell_type": "code",
   "execution_count": 43,
   "metadata": {},
   "outputs": [],
   "source": [
    "import json\n",
    "from pprint import pprint\n",
    "def generatekeys(p,q):\n",
    "    n = int(p) * int(q)\n",
    "    phi = (int(p) - 1) * (int(q) - 1)\n",
    "    e = 65537\n",
    "    d = pow(e, -1, phi)\n",
    "    return n,e,d\n",
    "\n",
    "n1,e1,d1 = generatekeys(primelist[0],primelist[1])\n",
    "n2,e2,d2 = generatekeys(primelist[2],primelist[3])\n",
    "n3,e3,d3 = generatekeys(primelist[4],primelist[5])\n",
    "client0 = {\n",
    "    \"n\": str(n1),\n",
    "    \"e\": str(e1),\n",
    "    \"d\": str(d1)\n",
    "}\n",
    "\n",
    "client1 = {\n",
    "    \"n\": str(n2),\n",
    "    \"e\": str(e2),\n",
    "    \"d\": str(d2)\n",
    "}\n",
    "\n",
    "client2 = {\n",
    "    \"n\": str(n3),\n",
    "    \"e\": str(e3),\n",
    "    \"d\": str(d3)\n",
    "}\n",
    "\n",
    "with open(\"creds/client0.json\", \"w\") as f:\n",
    "    json.dump(client0, f)\n",
    "\n",
    "with open(\"creds/client1.json\", \"w\") as f:\n",
    "    json.dump(client1, f)\n",
    "\n",
    "with open(\"creds/pkda.json\", \"w\") as f:\n",
    "    json.dump(client2, f)"
   ]
  },
  {
   "cell_type": "code",
   "execution_count": 44,
   "metadata": {},
   "outputs": [
    {
     "name": "stdout",
     "output_type": "stream",
     "text": [
      "{'d': '2035768806466451489187253112163733838914451781249393522642017515386809905131396761142646010544466626676069088885155502183429834169358085476481005600738005844979157799351634175299694502279657709921808182376752975659817742306723708396965047567061856995620037202382306084630035299555789070605768666952034595789958848261758489472686281776542135676797416422825658031276406636730380524400840999192063825136677521868820206870526739665404957899337853819062827637128985437569406271685273660140790622807106361325904309825089147150013111237415228897693848288538042275799750665627926794837967850581394876060885502657931235316473',\n",
      " 'e': '65537',\n",
      " 'n': '21708132162283083509089652979478461536110710443823869719067670339392346363910893188253431759364254688003504698709150040122915887074067824255147358290850421259746024193964863154346905075805715479197127049857673245333139501717499459357614435796051565558403901420847574661307943935403148115894933473159045119474185505263871941306862737297567259404311871786967499098446600714288693671101654765842390344560010569663612383563577368211701503491766740277813955680207852986811156940848326327876218358321710907552562722459142073338788981802647542142448453217556276258806760083926872427649364874831827945748372854925365479474093'}\n",
      "3108119102018609659569083460651919641224527186051099664679085940829142277263487114118760924890288213311538729845710278156026579667581444898326019812959978057193450639299901074570693992198017427628080416535374857548100581289023845610535757207018076552632551167145972062488407245989649073978645293475145130439321683892977736277402112522320653667317483165581951198997788986261641091991834361481839492746244683790734373866502123826100804746923442219601937271252954565863209217756845274842714455012768510480149030239961461820071324211870841903516239929676525515362726063426948948768207995272535640628676925664169472841309\n",
      "Hello iwbferwknfwnflwpwfpownfencpocnnoomdpsmlmlzdvmldnfovnenavfs;ovfndovnfs;vndvnofdsivnoienesirnvoevWorld\n",
      "Test passed\n"
     ]
    }
   ],
   "source": [
    "#parse the json file into a dictionary\n",
    "filename = \"creds/client0.json\"\n",
    "with open (filename, \"r\") as f:\n",
    "    data = json.load(f)\n",
    "d,e,n = data['d'], data['e'], data['n']\n",
    "pprint(data)\n",
    "\n",
    "#given this credential write functions for encryption and decrypting string message using RSA\n",
    "def encrypt(message):\n",
    "    message = message.encode()\n",
    "    encrypted = pow(int.from_bytes(message, 'big'), int(e), int(n))\n",
    "    return encrypted\n",
    "\n",
    "def decrypt(encrypted):\n",
    "    decrypted = pow(encrypted, int(d), int(n))\n",
    "    decrypted = decrypted.to_bytes((decrypted.bit_length() + 7) // 8, 'big')\n",
    "    return decrypted.decode()\n",
    "\n",
    "#test the functions\n",
    "message = \"Hello iwbferwknfwnflwpwfpownfencpocnnoomdpsmlmlzdvmldnfovnenavfs;ovfndovnfs;vndvnofdsivnoienesirnvoevWorld\"\n",
    "encrypted = encrypt(message)\n",
    "print(encrypted)\n",
    "decrypted = decrypt(encrypted)\n",
    "print(decrypted)\n",
    "assert message == decrypted\n",
    "print(\"Test passed\")\n"
   ]
  }
 ],
 "metadata": {
  "kernelspec": {
   "display_name": "base",
   "language": "python",
   "name": "python3"
  },
  "language_info": {
   "codemirror_mode": {
    "name": "ipython",
    "version": 3
   },
   "file_extension": ".py",
   "mimetype": "text/x-python",
   "name": "python",
   "nbconvert_exporter": "python",
   "pygments_lexer": "ipython3",
   "version": "3.11.5"
  }
 },
 "nbformat": 4,
 "nbformat_minor": 2
}
